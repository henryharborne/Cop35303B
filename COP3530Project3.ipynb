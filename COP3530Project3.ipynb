{
 "cells": [
  {
   "cell_type": "code",
   "execution_count": 1,
   "id": "a61e3fe5-1399-4307-84ad-13a52a26fc5c",
   "metadata": {},
   "outputs": [],
   "source": [
    "import pandas as pd\n",
    "import numpy as np\n",
    "from sklearn.preprocessing import StandardScaler\n",
    "import matplotlib.pyplot as plt\n",
    "import seaborn as sns\n",
    "from sklearn.metrics.pairwise import cosine_similarity\n",
    "import random"
   ]
  },
  {
   "cell_type": "code",
   "execution_count": 2,
   "id": "91d26be2-d647-406c-8a00-bb13f076bbd3",
   "metadata": {},
   "outputs": [],
   "source": [
    "data = pd.read_csv(\"dataset.csv\")"
   ]
  },
  {
   "cell_type": "code",
   "execution_count": 3,
   "id": "6821f734-c27c-4d79-979b-2f4ef21c5f4f",
   "metadata": {},
   "outputs": [
    {
     "data": {
      "text/html": [
       "<div>\n",
       "<style scoped>\n",
       "    .dataframe tbody tr th:only-of-type {\n",
       "        vertical-align: middle;\n",
       "    }\n",
       "\n",
       "    .dataframe tbody tr th {\n",
       "        vertical-align: top;\n",
       "    }\n",
       "\n",
       "    .dataframe thead th {\n",
       "        text-align: right;\n",
       "    }\n",
       "</style>\n",
       "<table border=\"1\" class=\"dataframe\">\n",
       "  <thead>\n",
       "    <tr style=\"text-align: right;\">\n",
       "      <th></th>\n",
       "      <th>Unnamed: 0</th>\n",
       "      <th>track_id</th>\n",
       "      <th>artists</th>\n",
       "      <th>album_name</th>\n",
       "      <th>track_name</th>\n",
       "      <th>popularity</th>\n",
       "      <th>duration_ms</th>\n",
       "      <th>explicit</th>\n",
       "      <th>danceability</th>\n",
       "      <th>energy</th>\n",
       "      <th>...</th>\n",
       "      <th>loudness</th>\n",
       "      <th>mode</th>\n",
       "      <th>speechiness</th>\n",
       "      <th>acousticness</th>\n",
       "      <th>instrumentalness</th>\n",
       "      <th>liveness</th>\n",
       "      <th>valence</th>\n",
       "      <th>tempo</th>\n",
       "      <th>time_signature</th>\n",
       "      <th>track_genre</th>\n",
       "    </tr>\n",
       "  </thead>\n",
       "  <tbody>\n",
       "    <tr>\n",
       "      <th>0</th>\n",
       "      <td>0</td>\n",
       "      <td>5SuOikwiRyPMVoIQDJUgSV</td>\n",
       "      <td>Gen Hoshino</td>\n",
       "      <td>Comedy</td>\n",
       "      <td>Comedy</td>\n",
       "      <td>73</td>\n",
       "      <td>230666</td>\n",
       "      <td>False</td>\n",
       "      <td>0.676</td>\n",
       "      <td>0.4610</td>\n",
       "      <td>...</td>\n",
       "      <td>-6.746</td>\n",
       "      <td>0</td>\n",
       "      <td>0.1430</td>\n",
       "      <td>0.0322</td>\n",
       "      <td>0.000001</td>\n",
       "      <td>0.3580</td>\n",
       "      <td>0.715</td>\n",
       "      <td>87.917</td>\n",
       "      <td>4</td>\n",
       "      <td>acoustic</td>\n",
       "    </tr>\n",
       "    <tr>\n",
       "      <th>1</th>\n",
       "      <td>1</td>\n",
       "      <td>4qPNDBW1i3p13qLCt0Ki3A</td>\n",
       "      <td>Ben Woodward</td>\n",
       "      <td>Ghost (Acoustic)</td>\n",
       "      <td>Ghost - Acoustic</td>\n",
       "      <td>55</td>\n",
       "      <td>149610</td>\n",
       "      <td>False</td>\n",
       "      <td>0.420</td>\n",
       "      <td>0.1660</td>\n",
       "      <td>...</td>\n",
       "      <td>-17.235</td>\n",
       "      <td>1</td>\n",
       "      <td>0.0763</td>\n",
       "      <td>0.9240</td>\n",
       "      <td>0.000006</td>\n",
       "      <td>0.1010</td>\n",
       "      <td>0.267</td>\n",
       "      <td>77.489</td>\n",
       "      <td>4</td>\n",
       "      <td>acoustic</td>\n",
       "    </tr>\n",
       "    <tr>\n",
       "      <th>2</th>\n",
       "      <td>2</td>\n",
       "      <td>1iJBSr7s7jYXzM8EGcbK5b</td>\n",
       "      <td>Ingrid Michaelson;ZAYN</td>\n",
       "      <td>To Begin Again</td>\n",
       "      <td>To Begin Again</td>\n",
       "      <td>57</td>\n",
       "      <td>210826</td>\n",
       "      <td>False</td>\n",
       "      <td>0.438</td>\n",
       "      <td>0.3590</td>\n",
       "      <td>...</td>\n",
       "      <td>-9.734</td>\n",
       "      <td>1</td>\n",
       "      <td>0.0557</td>\n",
       "      <td>0.2100</td>\n",
       "      <td>0.000000</td>\n",
       "      <td>0.1170</td>\n",
       "      <td>0.120</td>\n",
       "      <td>76.332</td>\n",
       "      <td>4</td>\n",
       "      <td>acoustic</td>\n",
       "    </tr>\n",
       "    <tr>\n",
       "      <th>3</th>\n",
       "      <td>3</td>\n",
       "      <td>6lfxq3CG4xtTiEg7opyCyx</td>\n",
       "      <td>Kina Grannis</td>\n",
       "      <td>Crazy Rich Asians (Original Motion Picture Sou...</td>\n",
       "      <td>Can't Help Falling In Love</td>\n",
       "      <td>71</td>\n",
       "      <td>201933</td>\n",
       "      <td>False</td>\n",
       "      <td>0.266</td>\n",
       "      <td>0.0596</td>\n",
       "      <td>...</td>\n",
       "      <td>-18.515</td>\n",
       "      <td>1</td>\n",
       "      <td>0.0363</td>\n",
       "      <td>0.9050</td>\n",
       "      <td>0.000071</td>\n",
       "      <td>0.1320</td>\n",
       "      <td>0.143</td>\n",
       "      <td>181.740</td>\n",
       "      <td>3</td>\n",
       "      <td>acoustic</td>\n",
       "    </tr>\n",
       "    <tr>\n",
       "      <th>4</th>\n",
       "      <td>4</td>\n",
       "      <td>5vjLSffimiIP26QG5WcN2K</td>\n",
       "      <td>Chord Overstreet</td>\n",
       "      <td>Hold On</td>\n",
       "      <td>Hold On</td>\n",
       "      <td>82</td>\n",
       "      <td>198853</td>\n",
       "      <td>False</td>\n",
       "      <td>0.618</td>\n",
       "      <td>0.4430</td>\n",
       "      <td>...</td>\n",
       "      <td>-9.681</td>\n",
       "      <td>1</td>\n",
       "      <td>0.0526</td>\n",
       "      <td>0.4690</td>\n",
       "      <td>0.000000</td>\n",
       "      <td>0.0829</td>\n",
       "      <td>0.167</td>\n",
       "      <td>119.949</td>\n",
       "      <td>4</td>\n",
       "      <td>acoustic</td>\n",
       "    </tr>\n",
       "  </tbody>\n",
       "</table>\n",
       "<p>5 rows × 21 columns</p>\n",
       "</div>"
      ],
      "text/plain": [
       "   Unnamed: 0                track_id                 artists  \\\n",
       "0           0  5SuOikwiRyPMVoIQDJUgSV             Gen Hoshino   \n",
       "1           1  4qPNDBW1i3p13qLCt0Ki3A            Ben Woodward   \n",
       "2           2  1iJBSr7s7jYXzM8EGcbK5b  Ingrid Michaelson;ZAYN   \n",
       "3           3  6lfxq3CG4xtTiEg7opyCyx            Kina Grannis   \n",
       "4           4  5vjLSffimiIP26QG5WcN2K        Chord Overstreet   \n",
       "\n",
       "                                          album_name  \\\n",
       "0                                             Comedy   \n",
       "1                                   Ghost (Acoustic)   \n",
       "2                                     To Begin Again   \n",
       "3  Crazy Rich Asians (Original Motion Picture Sou...   \n",
       "4                                            Hold On   \n",
       "\n",
       "                   track_name  popularity  duration_ms  explicit  \\\n",
       "0                      Comedy          73       230666     False   \n",
       "1            Ghost - Acoustic          55       149610     False   \n",
       "2              To Begin Again          57       210826     False   \n",
       "3  Can't Help Falling In Love          71       201933     False   \n",
       "4                     Hold On          82       198853     False   \n",
       "\n",
       "   danceability  energy  ...  loudness  mode  speechiness  acousticness  \\\n",
       "0         0.676  0.4610  ...    -6.746     0       0.1430        0.0322   \n",
       "1         0.420  0.1660  ...   -17.235     1       0.0763        0.9240   \n",
       "2         0.438  0.3590  ...    -9.734     1       0.0557        0.2100   \n",
       "3         0.266  0.0596  ...   -18.515     1       0.0363        0.9050   \n",
       "4         0.618  0.4430  ...    -9.681     1       0.0526        0.4690   \n",
       "\n",
       "   instrumentalness  liveness  valence    tempo  time_signature  track_genre  \n",
       "0          0.000001    0.3580    0.715   87.917               4     acoustic  \n",
       "1          0.000006    0.1010    0.267   77.489               4     acoustic  \n",
       "2          0.000000    0.1170    0.120   76.332               4     acoustic  \n",
       "3          0.000071    0.1320    0.143  181.740               3     acoustic  \n",
       "4          0.000000    0.0829    0.167  119.949               4     acoustic  \n",
       "\n",
       "[5 rows x 21 columns]"
      ]
     },
     "execution_count": 3,
     "metadata": {},
     "output_type": "execute_result"
    }
   ],
   "source": [
    "data.head()"
   ]
  },
  {
   "cell_type": "code",
   "execution_count": 4,
   "id": "ff05abcc-1587-496f-b068-6304b972a32f",
   "metadata": {},
   "outputs": [],
   "source": [
    "nonNumeric = ['song_name', 'artist_name', 'track_id']\n",
    "dataClean = data.drop(columns=nonNumeric, errors='ignore')\n",
    "dataClean = dataClean.select_dtypes(include=[np.number])"
   ]
  },
  {
   "cell_type": "code",
   "execution_count": 5,
   "id": "2ee05e51-02ee-409a-8250-f73ce6f73135",
   "metadata": {},
   "outputs": [],
   "source": [
    "scaler = StandardScaler()\n",
    "dataStandardized = scaler.fit_transform(dataClean)"
   ]
  },
  {
   "cell_type": "code",
   "execution_count": 6,
   "id": "872195ff-d802-4d5e-9724-9be11000ce28",
   "metadata": {},
   "outputs": [],
   "source": [
    "# knn\n",
    "def knnRecommend(userSong, data, k=5):\n",
    "    similarities = cosine_similarity(data[userSong].reshape(1,-1), data).flatten()\n",
    "    recommended = np.argsort(-similarities)[1:k+1]\n",
    "    return recommended"
   ]
  },
  {
   "cell_type": "code",
   "execution_count": 7,
   "id": "5139ecf2-639b-44fe-b92e-aa9c12ef8c99",
   "metadata": {},
   "outputs": [],
   "source": [
    "# hash-based recommendation\n",
    "class LSH:\n",
    "    def __init__(self, numHashes, numBands):\n",
    "        self.buckets = {}\n",
    "        self.numHashes = numHashes\n",
    "        self.numBands = numBands\n",
    "    def fit(self, data):\n",
    "        rows, features = data.shape\n",
    "        for i in range(self.numHashes):\n",
    "            randProjection = np.random.randn(self.numHashes, data.shape[1])\n",
    "            hashVals = np.sign(np.dot(data, randProjection.T))\n",
    "            for j in range(self.numBands):\n",
    "                startID = j * (self.numHashes // self.numBands)\n",
    "                endID = startID + (self.numHashes // self.numBands)\n",
    "                bHash = tuple(hashVals[:, startID:endID].flatten())\n",
    "                if bHash not in self.buckets:\n",
    "                    self.buckets[bHash] = []\n",
    "                self.buckets[bHash].append(i)\n",
    "    def query(self, songID):\n",
    "        similarSongs = []\n",
    "        for bucket in self.buckets.values():\n",
    "            if songID in bucket:\n",
    "                similarSongs.extend(bucket)\n",
    "        return list(set(similarSongs) - {songID})"
   ]
  },
  {
   "cell_type": "code",
   "execution_count": 8,
   "id": "8b73070a-3cf1-4454-a248-05a77cdac5b4",
   "metadata": {},
   "outputs": [],
   "source": [
    "userSongID = random.randint(0, dataStandardized.shape[0]-1)"
   ]
  },
  {
   "cell_type": "code",
   "execution_count": 9,
   "id": "29fcd6bc-0953-45a9-8c26-482b1b472403",
   "metadata": {},
   "outputs": [
    {
     "name": "stdout",
     "output_type": "stream",
     "text": [
      "KNN Recommendations [91020 83162 85863 53963 83488]\n"
     ]
    }
   ],
   "source": [
    "# knn trial\n",
    "k = 5\n",
    "knnRecommendations = knnRecommend(userSongID, dataStandardized, k)\n",
    "print(\"KNN Recommendations\", knnRecommendations)"
   ]
  },
  {
   "cell_type": "code",
   "execution_count": 10,
   "id": "b1cd1b91-754b-4216-8232-4e6429e6d207",
   "metadata": {},
   "outputs": [
    {
     "name": "stdout",
     "output_type": "stream",
     "text": [
      "Hash-Based Recommendations []\n"
     ]
    }
   ],
   "source": [
    "# hash-based trial - FIXME\n",
    "lsh = LSH(numHashes=20, numBands=5)\n",
    "lsh.fit(dataStandardized)\n",
    "lshRecommendations = lsh.query(userSongID)\n",
    "print(\"Hash-Based Recommendations\", lshRecommendations[:k])"
   ]
  },
  {
   "cell_type": "code",
   "execution_count": 11,
   "id": "3ef30037-2310-4ad4-86ed-60dd8cf2708d",
   "metadata": {},
   "outputs": [],
   "source": [
    "# Naive Bayes\n",
    "class NaiveBayes:\n",
    "    def __init__(self):\n",
    "        self.classes = None\n",
    "        self.means = {}\n",
    "        self.variances = {}\n",
    "        self.priors = {}\n",
    "\n",
    "    def fit(self, X, y):\n",
    "        self.classes = np.unique(y)\n",
    "        for cls in self.classes:\n",
    "            X_c = X[y == cls]\n",
    "            self.means[cls] = np.mean(X_c, axis=0)\n",
    "            self.variances[cls] = np.var(X_c, axis=0)\n",
    "            self.priors[cls] = X_c.shape[0] / X.shape[0]\n",
    "\n",
    "    def calcLikelihood(self, cls, x):\n",
    "        mean = self.means[cls]\n",
    "        variance = self.variances[cls]\n",
    "        numerator = np.exp(-((x - mean) ** 2) / (2 * variance))\n",
    "        denominator = np.sqrt(2 * np.pi * variance)\n",
    "        return numerator / denominator\n",
    "\n",
    "    def calcPosterior(self, x):\n",
    "        posteriors = {}\n",
    "        for cls in self.classes:\n",
    "            prior = self.priors[cls]\n",
    "            likelihood = np.prod(self.calcLikelihood(cls, x))\n",
    "            posteriors[cls] = prior * likelihood\n",
    "        return posteriors\n",
    "\n",
    "    def predict(self, X):\n",
    "        predictions = []\n",
    "        for x in X:\n",
    "            posteriors = self.calcPosterior(x)\n",
    "            predictions.append(max(posteriors, key=posteriors.get))\n",
    "        return np.array(predictions)"
   ]
  },
  {
   "cell_type": "code",
   "execution_count": 12,
   "id": "0b449b8e-1947-4415-a018-e94c6ef230cb",
   "metadata": {},
   "outputs": [],
   "source": [
    "# Train NB\n",
    "from sklearn.cluster import KMeans\n",
    "kmeans = KMeans(n_clusters=5, random_state=42)\n",
    "labels = kmeans.fit_predict(dataStandardized)\n",
    "nb = NaiveBayes()\n",
    "nb.fit(dataStandardized, labels)"
   ]
  },
  {
   "cell_type": "code",
   "execution_count": 13,
   "id": "d843513c-dc25-4e87-ace2-2c615ffee18d",
   "metadata": {},
   "outputs": [
    {
     "name": "stdout",
     "output_type": "stream",
     "text": [
      "Predicted Labels: [4 1 1 ... 2 1 2]\n"
     ]
    }
   ],
   "source": [
    "# Predict NB\n",
    "predictions = nb.predict(dataStandardized)\n",
    "print(\"Predicted Labels:\", predictions)"
   ]
  },
  {
   "cell_type": "code",
   "execution_count": 30,
   "id": "7cd7f434-3878-49d4-aa03-d3ba8aa2fb48",
   "metadata": {},
   "outputs": [
    {
     "name": "stdout",
     "output_type": "stream",
     "text": [
      "Recommended Songs [ 0 24 27 52 61]\n"
     ]
    }
   ],
   "source": [
    "# Recommend with NB\n",
    "def recommendNB(userSongID, X, labels, model, k=5):\n",
    "    userLabel = model.predict(X[userSongID:userSongID+1])[0]\n",
    "    recommendations = np.where(labels == userLabel)[0]\n",
    "    return recommendations[:k]\n",
    "\n",
    "recommendations = recommendNB(userSongID, dataStandardized, labels, nb, k=5)\n",
    "print(\"Recommended Songs\", recommendations)"
   ]
  },
  {
   "cell_type": "code",
   "execution_count": null,
   "id": "42282600-3a64-4836-baef-2477e920bb6f",
   "metadata": {},
   "outputs": [],
   "source": []
  }
 ],
 "metadata": {
  "kernelspec": {
   "display_name": "Python 3 (ipykernel)",
   "language": "python",
   "name": "python3"
  },
  "language_info": {
   "codemirror_mode": {
    "name": "ipython",
    "version": 3
   },
   "file_extension": ".py",
   "mimetype": "text/x-python",
   "name": "python",
   "nbconvert_exporter": "python",
   "pygments_lexer": "ipython3",
   "version": "3.12.4"
  }
 },
 "nbformat": 4,
 "nbformat_minor": 5
}
